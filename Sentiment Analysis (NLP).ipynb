{
 "cells": [
  {
   "cell_type": "markdown",
   "id": "d21c5715",
   "metadata": {},
   "source": [
    "# Abtract"
   ]
  },
  {
   "cell_type": "markdown",
   "id": "a2c48dc5",
   "metadata": {},
   "source": [
    "__This project explores the use of machine learning to analyze public sentiment from social media platforms. By leveraging natural language processing (NLP) techniques, it processes and classifies text data into positive, negative, or neutral sentiments. The analysis provides insights into trends, customer feedback, and public opinion on various topics. The model is trained on a labeled dataset, fine-tuned for accuracy, and evaluated using key metrics like precision, recall, and F1-score. The findings highlight the potential of AI-driven sentiment analysis in enhancing decision-making for businesses, marketing strategies, and public policy development.__"
   ]
  },
  {
   "cell_type": "markdown",
   "id": "a3dd47a6",
   "metadata": {},
   "source": [
    "# Importing libraries"
   ]
  },
  {
   "cell_type": "code",
   "execution_count": 25,
   "id": "434c9f04",
   "metadata": {},
   "outputs": [],
   "source": [
    "import numpy as np\n",
    "import pandas as pd\n",
    "import matplotlib.pyplot as plt\n",
    "import seaborn as sb\n",
    "import statsmodels.api as sm\n",
    "import statsmodels.formula.api as smf\n",
    "from sklearn.linear_model import LogisticRegression, LinearRegression,Lasso\n",
    "from sklearn.tree import DecisionTreeClassifier\n",
    "from sklearn.feature_extraction.text import CountVectorizer\n",
    "from sklearn.naive_bayes import MultinomialNB\n",
    "from sklearn.metrics import classification_report, confusion_matrix, accuracy_score,mean_absolute_error,mean_squared_error,r2_score\n",
    "from sklearn.model_selection import train_test_split\n",
    "from nltk.corpus import stopwords\n",
    "from nltk.stem import WordNetLemmatizer\n",
    "from sklearn.preprocessing import LabelEncoder,OneHotEncoder,StandardScaler\n",
    "from sklearn.ensemble import RandomForestClassifier,GradientBoostingRegressor\n",
    "from sklearn.impute import SimpleImputer\n",
    "from lazypredict.Supervised import LazyClassifier,LazyRegressor\n",
    "from textblob import TextBlob\n",
    "import nltk\n",
    "import re\n",
    "import string\n",
    "from nltk.corpus import stopwords\n",
    "\n",
    "%matplotlib inline"
   ]
  },
  {
   "cell_type": "markdown",
   "id": "3f1c0310",
   "metadata": {},
   "source": [
    "# Import dataset"
   ]
  },
  {
   "cell_type": "code",
   "execution_count": 26,
   "id": "9afb40d1",
   "metadata": {},
   "outputs": [],
   "source": [
    "df=pd.read_csv('sentiment_analysis.csv')"
   ]
  },
  {
   "cell_type": "code",
   "execution_count": 27,
   "id": "f487f8ed",
   "metadata": {},
   "outputs": [
    {
     "data": {
      "text/html": [
       "<div>\n",
       "<style scoped>\n",
       "    .dataframe tbody tr th:only-of-type {\n",
       "        vertical-align: middle;\n",
       "    }\n",
       "\n",
       "    .dataframe tbody tr th {\n",
       "        vertical-align: top;\n",
       "    }\n",
       "\n",
       "    .dataframe thead th {\n",
       "        text-align: right;\n",
       "    }\n",
       "</style>\n",
       "<table border=\"1\" class=\"dataframe\">\n",
       "  <thead>\n",
       "    <tr style=\"text-align: right;\">\n",
       "      <th></th>\n",
       "      <th>Year</th>\n",
       "      <th>Month</th>\n",
       "      <th>Day</th>\n",
       "      <th>Time of Tweet</th>\n",
       "      <th>text</th>\n",
       "      <th>sentiment</th>\n",
       "      <th>Platform</th>\n",
       "    </tr>\n",
       "  </thead>\n",
       "  <tbody>\n",
       "    <tr>\n",
       "      <th>0</th>\n",
       "      <td>2018</td>\n",
       "      <td>8</td>\n",
       "      <td>18</td>\n",
       "      <td>morning</td>\n",
       "      <td>What a great day!!! Looks like dream.</td>\n",
       "      <td>positive</td>\n",
       "      <td>Twitter</td>\n",
       "    </tr>\n",
       "    <tr>\n",
       "      <th>1</th>\n",
       "      <td>2018</td>\n",
       "      <td>8</td>\n",
       "      <td>18</td>\n",
       "      <td>noon</td>\n",
       "      <td>I feel sorry, I miss you here in the sea beach</td>\n",
       "      <td>positive</td>\n",
       "      <td>Facebook</td>\n",
       "    </tr>\n",
       "    <tr>\n",
       "      <th>2</th>\n",
       "      <td>2017</td>\n",
       "      <td>8</td>\n",
       "      <td>18</td>\n",
       "      <td>night</td>\n",
       "      <td>Don't angry me</td>\n",
       "      <td>negative</td>\n",
       "      <td>Facebook</td>\n",
       "    </tr>\n",
       "  </tbody>\n",
       "</table>\n",
       "</div>"
      ],
      "text/plain": [
       "   Year  Month  Day Time of Tweet  \\\n",
       "0  2018      8   18       morning   \n",
       "1  2018      8   18          noon   \n",
       "2  2017      8   18         night   \n",
       "\n",
       "                                             text sentiment    Platform  \n",
       "0           What a great day!!! Looks like dream.  positive   Twitter    \n",
       "1  I feel sorry, I miss you here in the sea beach  positive   Facebook   \n",
       "2                                  Don't angry me  negative    Facebook  "
      ]
     },
     "execution_count": 27,
     "metadata": {},
     "output_type": "execute_result"
    }
   ],
   "source": [
    "df.head(3)"
   ]
  },
  {
   "cell_type": "markdown",
   "id": "1a14dad6",
   "metadata": {},
   "source": [
    "# Exploring data"
   ]
  },
  {
   "cell_type": "code",
   "execution_count": 28,
   "id": "13e33922",
   "metadata": {},
   "outputs": [
    {
     "data": {
      "text/plain": [
       "(499, 7)"
      ]
     },
     "execution_count": 28,
     "metadata": {},
     "output_type": "execute_result"
    }
   ],
   "source": [
    "df.shape"
   ]
  },
  {
   "cell_type": "code",
   "execution_count": 29,
   "id": "3c224afb",
   "metadata": {},
   "outputs": [
    {
     "name": "stdout",
     "output_type": "stream",
     "text": [
      "<class 'pandas.core.frame.DataFrame'>\n",
      "RangeIndex: 499 entries, 0 to 498\n",
      "Data columns (total 7 columns):\n",
      " #   Column         Non-Null Count  Dtype \n",
      "---  ------         --------------  ----- \n",
      " 0   Year           499 non-null    int64 \n",
      " 1   Month          499 non-null    int64 \n",
      " 2   Day            499 non-null    int64 \n",
      " 3   Time of Tweet  499 non-null    object\n",
      " 4   text           499 non-null    object\n",
      " 5   sentiment      499 non-null    object\n",
      " 6   Platform       499 non-null    object\n",
      "dtypes: int64(3), object(4)\n",
      "memory usage: 27.4+ KB\n"
     ]
    }
   ],
   "source": [
    "df.info()"
   ]
  },
  {
   "cell_type": "code",
   "execution_count": 30,
   "id": "2b615171",
   "metadata": {},
   "outputs": [
    {
     "data": {
      "text/plain": [
       "Year             0\n",
       "Month            0\n",
       "Day              0\n",
       "Time of Tweet    0\n",
       "text             0\n",
       "sentiment        0\n",
       "Platform         0\n",
       "dtype: int64"
      ]
     },
     "execution_count": 30,
     "metadata": {},
     "output_type": "execute_result"
    }
   ],
   "source": [
    "# Checking if there is any missing values\n",
    "df.isnull().sum()"
   ]
  },
  {
   "cell_type": "code",
   "execution_count": 31,
   "id": "07bc7c70",
   "metadata": {},
   "outputs": [
    {
     "data": {
      "text/plain": [
       "neutral     199\n",
       "positive    166\n",
       "negative    134\n",
       "Name: sentiment, dtype: int64"
      ]
     },
     "execution_count": 31,
     "metadata": {},
     "output_type": "execute_result"
    }
   ],
   "source": [
    "df['sentiment'].value_counts()"
   ]
  },
  {
   "cell_type": "code",
   "execution_count": 35,
   "id": "7be45819",
   "metadata": {},
   "outputs": [
    {
     "data": {
      "image/png": "[encoded data removed]",
      "text/plain": [
       "<Figure size 700x700 with 1 Axes>"
      ]
     },
     "metadata": {},
     "output_type": "display_data"
    }
   ],
   "source": [
    "# Visualizing the revews\n",
    "df['sentiment'].value_counts().plot(kind='bar',title='Sentiment reviews',figsize=(7,7))\n",
    "plt.xlabel('Review type')\n",
    "plt.ylabel('Review count')\n",
    "plt.show();"
   ]
  },
  {
   "cell_type": "markdown",
   "id": "1b7d2635",
   "metadata": {},
   "source": [
    "# Data Preprocessing"
   ]
  },
  {
   "cell_type": "code",
   "execution_count": 36,
   "id": "40f7c79e",
   "metadata": {},
   "outputs": [],
   "source": [
    "stop_words = set(stopwords.words('english'))\n",
    "lemmatizer = WordNetLemmatizer()"
   ]
  },
  {
   "cell_type": "code",
   "execution_count": 37,
   "id": "14197d40",
   "metadata": {},
   "outputs": [],
   "source": [
    "def text_clean(text):\n",
    "    text=re.sub(r'[^\\w\\s]', '', text)\n",
    "    text=text.lower()\n",
    "    cleaned = ' '.join( lemmatizer.lemmatize(word) for word in text.split() if word not in stop_words)\n",
    "    return cleaned"
   ]
  },
  {
   "cell_type": "code",
   "execution_count": 38,
   "id": "9b47f40b",
   "metadata": {
    "scrolled": false
   },
   "outputs": [],
   "source": [
    "df['cleaned_text']=df['text'].apply(text_clean)"
   ]
  },
  {
   "cell_type": "code",
   "execution_count": 39,
   "id": "c304ba1a",
   "metadata": {},
   "outputs": [
    {
     "name": "stdout",
     "output_type": "stream",
     "text": [
      "                                                text  \\\n",
      "0              What a great day!!! Looks like dream.   \n",
      "1     I feel sorry, I miss you here in the sea beach   \n",
      "2                                     Don't angry me   \n",
      "3  We attend in the class just for listening teac...   \n",
      "4                  Those who want to go, let them go   \n",
      "\n",
      "                                        cleaned_text  \n",
      "0                          great day look like dream  \n",
      "1                          feel sorry miss sea beach  \n",
      "2                                         dont angry  \n",
      "3  attend class listening teacher reading slide n...  \n",
      "4                                     want go let go  \n"
     ]
    }
   ],
   "source": [
    "print(df[['text', 'cleaned_text']].head())"
   ]
  },
  {
   "cell_type": "code",
   "execution_count": 57,
   "id": "74a376bb",
   "metadata": {},
   "outputs": [],
   "source": [
    "# Polirizing the sentiments from social media users\n",
    "\n",
    "def Sentiment_label(text):\n",
    "    blob=TextBlob(text)\n",
    "    polarity = blob.sentiment.polarity\n",
    "    if polarity>0:\n",
    "        return 1\n",
    "    elif polarity<0:\n",
    "        return -1\n",
    "    else:\n",
    "        return 0\n",
    "    "
   ]
  },
  {
   "cell_type": "code",
   "execution_count": 41,
   "id": "cfd4f45e",
   "metadata": {},
   "outputs": [],
   "source": [
    "df['Sentiment_label']=df['text'].apply(Sentiment_label)"
   ]
  },
  {
   "cell_type": "code",
   "execution_count": 42,
   "id": "84701eef",
   "metadata": {},
   "outputs": [
    {
     "data": {
      "text/html": [
       "<div>\n",
       "<style scoped>\n",
       "    .dataframe tbody tr th:only-of-type {\n",
       "        vertical-align: middle;\n",
       "    }\n",
       "\n",
       "    .dataframe tbody tr th {\n",
       "        vertical-align: top;\n",
       "    }\n",
       "\n",
       "    .dataframe thead th {\n",
       "        text-align: right;\n",
       "    }\n",
       "</style>\n",
       "<table border=\"1\" class=\"dataframe\">\n",
       "  <thead>\n",
       "    <tr style=\"text-align: right;\">\n",
       "      <th></th>\n",
       "      <th>Year</th>\n",
       "      <th>Month</th>\n",
       "      <th>Day</th>\n",
       "      <th>Time of Tweet</th>\n",
       "      <th>text</th>\n",
       "      <th>sentiment</th>\n",
       "      <th>Platform</th>\n",
       "      <th>cleaned_text</th>\n",
       "      <th>Sentiment_label</th>\n",
       "    </tr>\n",
       "  </thead>\n",
       "  <tbody>\n",
       "    <tr>\n",
       "      <th>0</th>\n",
       "      <td>2018</td>\n",
       "      <td>8</td>\n",
       "      <td>18</td>\n",
       "      <td>morning</td>\n",
       "      <td>What a great day!!! Looks like dream.</td>\n",
       "      <td>positive</td>\n",
       "      <td>Twitter</td>\n",
       "      <td>great day look like dream</td>\n",
       "      <td>1</td>\n",
       "    </tr>\n",
       "    <tr>\n",
       "      <th>1</th>\n",
       "      <td>2018</td>\n",
       "      <td>8</td>\n",
       "      <td>18</td>\n",
       "      <td>noon</td>\n",
       "      <td>I feel sorry, I miss you here in the sea beach</td>\n",
       "      <td>positive</td>\n",
       "      <td>Facebook</td>\n",
       "      <td>feel sorry miss sea beach</td>\n",
       "      <td>-1</td>\n",
       "    </tr>\n",
       "    <tr>\n",
       "      <th>2</th>\n",
       "      <td>2017</td>\n",
       "      <td>8</td>\n",
       "      <td>18</td>\n",
       "      <td>night</td>\n",
       "      <td>Don't angry me</td>\n",
       "      <td>negative</td>\n",
       "      <td>Facebook</td>\n",
       "      <td>dont angry</td>\n",
       "      <td>-1</td>\n",
       "    </tr>\n",
       "    <tr>\n",
       "      <th>3</th>\n",
       "      <td>2022</td>\n",
       "      <td>6</td>\n",
       "      <td>8</td>\n",
       "      <td>morning</td>\n",
       "      <td>We attend in the class just for listening teac...</td>\n",
       "      <td>negative</td>\n",
       "      <td>Facebook</td>\n",
       "      <td>attend class listening teacher reading slide n...</td>\n",
       "      <td>0</td>\n",
       "    </tr>\n",
       "    <tr>\n",
       "      <th>4</th>\n",
       "      <td>2022</td>\n",
       "      <td>6</td>\n",
       "      <td>8</td>\n",
       "      <td>noon</td>\n",
       "      <td>Those who want to go, let them go</td>\n",
       "      <td>negative</td>\n",
       "      <td>Instagram</td>\n",
       "      <td>want go let go</td>\n",
       "      <td>0</td>\n",
       "    </tr>\n",
       "    <tr>\n",
       "      <th>...</th>\n",
       "      <td>...</td>\n",
       "      <td>...</td>\n",
       "      <td>...</td>\n",
       "      <td>...</td>\n",
       "      <td>...</td>\n",
       "      <td>...</td>\n",
       "      <td>...</td>\n",
       "      <td>...</td>\n",
       "      <td>...</td>\n",
       "    </tr>\n",
       "    <tr>\n",
       "      <th>494</th>\n",
       "      <td>2015</td>\n",
       "      <td>10</td>\n",
       "      <td>18</td>\n",
       "      <td>night</td>\n",
       "      <td>According to , a quarter of families under six...</td>\n",
       "      <td>negative</td>\n",
       "      <td>Twitter</td>\n",
       "      <td>according quarter family six live poverty</td>\n",
       "      <td>1</td>\n",
       "    </tr>\n",
       "    <tr>\n",
       "      <th>495</th>\n",
       "      <td>2021</td>\n",
       "      <td>2</td>\n",
       "      <td>25</td>\n",
       "      <td>morning</td>\n",
       "      <td>the plan to not spend money is not going well</td>\n",
       "      <td>negative</td>\n",
       "      <td>Instagram</td>\n",
       "      <td>plan spend money going well</td>\n",
       "      <td>0</td>\n",
       "    </tr>\n",
       "    <tr>\n",
       "      <th>496</th>\n",
       "      <td>2022</td>\n",
       "      <td>5</td>\n",
       "      <td>30</td>\n",
       "      <td>noon</td>\n",
       "      <td>uploading all my bamboozle pictures of facebook</td>\n",
       "      <td>neutral</td>\n",
       "      <td>Facebook</td>\n",
       "      <td>uploading bamboozle picture facebook</td>\n",
       "      <td>0</td>\n",
       "    </tr>\n",
       "    <tr>\n",
       "      <th>497</th>\n",
       "      <td>2018</td>\n",
       "      <td>8</td>\n",
       "      <td>10</td>\n",
       "      <td>night</td>\n",
       "      <td>congratulations ! you guys finish a month ear...</td>\n",
       "      <td>positive</td>\n",
       "      <td>Twitter</td>\n",
       "      <td>congratulation guy finish month early booo</td>\n",
       "      <td>1</td>\n",
       "    </tr>\n",
       "    <tr>\n",
       "      <th>498</th>\n",
       "      <td>2019</td>\n",
       "      <td>3</td>\n",
       "      <td>25</td>\n",
       "      <td>morning</td>\n",
       "      <td>actually, I wish I was back in Tahoe.  I miss...</td>\n",
       "      <td>negative</td>\n",
       "      <td>Instagram</td>\n",
       "      <td>actually wish back tahoe miss</td>\n",
       "      <td>0</td>\n",
       "    </tr>\n",
       "  </tbody>\n",
       "</table>\n",
       "<p>499 rows × 9 columns</p>\n",
       "</div>"
      ],
      "text/plain": [
       "     Year  Month  Day Time of Tweet  \\\n",
       "0    2018      8   18       morning   \n",
       "1    2018      8   18          noon   \n",
       "2    2017      8   18         night   \n",
       "3    2022      6    8       morning   \n",
       "4    2022      6    8          noon   \n",
       "..    ...    ...  ...           ...   \n",
       "494  2015     10   18         night   \n",
       "495  2021      2   25       morning   \n",
       "496  2022      5   30          noon   \n",
       "497  2018      8   10         night   \n",
       "498  2019      3   25       morning   \n",
       "\n",
       "                                                  text sentiment     Platform  \\\n",
       "0                What a great day!!! Looks like dream.  positive    Twitter     \n",
       "1       I feel sorry, I miss you here in the sea beach  positive    Facebook    \n",
       "2                                       Don't angry me  negative     Facebook   \n",
       "3    We attend in the class just for listening teac...  negative    Facebook    \n",
       "4                    Those who want to go, let them go  negative   Instagram    \n",
       "..                                                 ...       ...          ...   \n",
       "494  According to , a quarter of families under six...  negative     Twitter    \n",
       "495      the plan to not spend money is not going well  negative   Instagram    \n",
       "496    uploading all my bamboozle pictures of facebook   neutral    Facebook    \n",
       "497   congratulations ! you guys finish a month ear...  positive     Twitter    \n",
       "498   actually, I wish I was back in Tahoe.  I miss...  negative   Instagram    \n",
       "\n",
       "                                          cleaned_text  Sentiment_label  \n",
       "0                            great day look like dream                1  \n",
       "1                            feel sorry miss sea beach               -1  \n",
       "2                                           dont angry               -1  \n",
       "3    attend class listening teacher reading slide n...                0  \n",
       "4                                       want go let go                0  \n",
       "..                                                 ...              ...  \n",
       "494          according quarter family six live poverty                1  \n",
       "495                        plan spend money going well                0  \n",
       "496               uploading bamboozle picture facebook                0  \n",
       "497         congratulation guy finish month early booo                1  \n",
       "498                      actually wish back tahoe miss                0  \n",
       "\n",
       "[499 rows x 9 columns]"
      ]
     },
     "execution_count": 42,
     "metadata": {},
     "output_type": "execute_result"
    }
   ],
   "source": [
    "df"
   ]
  },
  {
   "cell_type": "code",
   "execution_count": 43,
   "id": "a60e19e5",
   "metadata": {},
   "outputs": [],
   "source": [
    "df.drop(columns=['Year','Month','Day','Time of Tweet','Platform','text','sentiment'],inplace=True)"
   ]
  },
  {
   "cell_type": "code",
   "execution_count": 44,
   "id": "c2d5a8d8",
   "metadata": {},
   "outputs": [
    {
     "data": {
      "text/html": [
       "<div>\n",
       "<style scoped>\n",
       "    .dataframe tbody tr th:only-of-type {\n",
       "        vertical-align: middle;\n",
       "    }\n",
       "\n",
       "    .dataframe tbody tr th {\n",
       "        vertical-align: top;\n",
       "    }\n",
       "\n",
       "    .dataframe thead th {\n",
       "        text-align: right;\n",
       "    }\n",
       "</style>\n",
       "<table border=\"1\" class=\"dataframe\">\n",
       "  <thead>\n",
       "    <tr style=\"text-align: right;\">\n",
       "      <th></th>\n",
       "      <th>cleaned_text</th>\n",
       "      <th>Sentiment_label</th>\n",
       "    </tr>\n",
       "  </thead>\n",
       "  <tbody>\n",
       "    <tr>\n",
       "      <th>0</th>\n",
       "      <td>great day look like dream</td>\n",
       "      <td>1</td>\n",
       "    </tr>\n",
       "    <tr>\n",
       "      <th>1</th>\n",
       "      <td>feel sorry miss sea beach</td>\n",
       "      <td>-1</td>\n",
       "    </tr>\n",
       "    <tr>\n",
       "      <th>2</th>\n",
       "      <td>dont angry</td>\n",
       "      <td>-1</td>\n",
       "    </tr>\n",
       "  </tbody>\n",
       "</table>\n",
       "</div>"
      ],
      "text/plain": [
       "                cleaned_text  Sentiment_label\n",
       "0  great day look like dream                1\n",
       "1  feel sorry miss sea beach               -1\n",
       "2                 dont angry               -1"
      ]
     },
     "execution_count": 44,
     "metadata": {},
     "output_type": "execute_result"
    }
   ],
   "source": [
    "df.head(3)"
   ]
  },
  {
   "cell_type": "markdown",
   "id": "0f6abaa1",
   "metadata": {},
   "source": [
    "# Validation & Model buiding"
   ]
  },
  {
   "cell_type": "code",
   "execution_count": 45,
   "id": "4b73c741",
   "metadata": {},
   "outputs": [],
   "source": [
    "x=df['cleaned_text']\n",
    "y=df['Sentiment_label']"
   ]
  },
  {
   "cell_type": "code",
   "execution_count": 51,
   "id": "c868a7bb",
   "metadata": {},
   "outputs": [],
   "source": [
    "#Validating the data\n",
    "train_x, test_x, train_y, test_y = train_test_split(x, y, test_size=0.25, random_state=0)"
   ]
  },
  {
   "cell_type": "code",
   "execution_count": 52,
   "id": "71500c6b",
   "metadata": {},
   "outputs": [],
   "source": [
    "vectorizer = CountVectorizer()"
   ]
  },
  {
   "cell_type": "code",
   "execution_count": 53,
   "id": "15fdb743",
   "metadata": {},
   "outputs": [],
   "source": [
    "train_vx = vectorizer.fit_transform(train_x)\n",
    "test_vx = vectorizer.transform(test_x)"
   ]
  },
  {
   "cell_type": "code",
   "execution_count": 54,
   "id": "7c3b1749",
   "metadata": {},
   "outputs": [
    {
     "data": {
      "text/html": [
       "<style>#sk-container-id-3 {color: black;background-color: white;}#sk-container-id-3 pre{padding: 0;}#sk-container-id-3 div.sk-toggleable {background-color: white;}#sk-container-id-3 label.sk-toggleable__label {cursor: pointer;display: block;width: 100%;margin-bottom: 0;padding: 0.3em;box-sizing: border-box;text-align: center;}#sk-container-id-3 label.sk-toggleable__label-arrow:before {content: \"▸\";float: left;margin-right: 0.25em;color: #696969;}#sk-container-id-3 label.sk-toggleable__label-arrow:hover:before {color: black;}#sk-container-id-3 div.sk-estimator:hover label.sk-toggleable__label-arrow:before {color: black;}#sk-container-id-3 div.sk-toggleable__content {max-height: 0;max-width: 0;overflow: hidden;text-align: left;background-color: #f0f8ff;}#sk-container-id-3 div.sk-toggleable__content pre {margin: 0.2em;color: black;border-radius: 0.25em;background-color: #f0f8ff;}#sk-container-id-3 input.sk-toggleable__control:checked~div.sk-toggleable__content {max-height: 200px;max-width: 100%;overflow: auto;}#sk-container-id-3 input.sk-toggleable__control:checked~label.sk-toggleable__label-arrow:before {content: \"▾\";}#sk-container-id-3 div.sk-estimator input.sk-toggleable__control:checked~label.sk-toggleable__label {background-color: #d4ebff;}#sk-container-id-3 div.sk-label input.sk-toggleable__control:checked~label.sk-toggleable__label {background-color: #d4ebff;}#sk-container-id-3 input.sk-hidden--visually {border: 0;clip: rect(1px 1px 1px 1px);clip: rect(1px, 1px, 1px, 1px);height: 1px;margin: -1px;overflow: hidden;padding: 0;position: absolute;width: 1px;}#sk-container-id-3 div.sk-estimator {font-family: monospace;background-color: #f0f8ff;border: 1px dotted black;border-radius: 0.25em;box-sizing: border-box;margin-bottom: 0.5em;}#sk-container-id-3 div.sk-estimator:hover {background-color: #d4ebff;}#sk-container-id-3 div.sk-parallel-item::after {content: \"\";width: 100%;border-bottom: 1px solid gray;flex-grow: 1;}#sk-container-id-3 div.sk-label:hover label.sk-toggleable__label {background-color: #d4ebff;}#sk-container-id-3 div.sk-serial::before {content: \"\";position: absolute;border-left: 1px solid gray;box-sizing: border-box;top: 0;bottom: 0;left: 50%;z-index: 0;}#sk-container-id-3 div.sk-serial {display: flex;flex-direction: column;align-items: center;background-color: white;padding-right: 0.2em;padding-left: 0.2em;position: relative;}#sk-container-id-3 div.sk-item {position: relative;z-index: 1;}#sk-container-id-3 div.sk-parallel {display: flex;align-items: stretch;justify-content: center;background-color: white;position: relative;}#sk-container-id-3 div.sk-item::before, #sk-container-id-3 div.sk-parallel-item::before {content: \"\";position: absolute;border-left: 1px solid gray;box-sizing: border-box;top: 0;bottom: 0;left: 50%;z-index: -1;}#sk-container-id-3 div.sk-parallel-item {display: flex;flex-direction: column;z-index: 1;position: relative;background-color: white;}#sk-container-id-3 div.sk-parallel-item:first-child::after {align-self: flex-end;width: 50%;}#sk-container-id-3 div.sk-parallel-item:last-child::after {align-self: flex-start;width: 50%;}#sk-container-id-3 div.sk-parallel-item:only-child::after {width: 0;}#sk-container-id-3 div.sk-dashed-wrapped {border: 1px dashed gray;margin: 0 0.4em 0.5em 0.4em;box-sizing: border-box;padding-bottom: 0.4em;background-color: white;}#sk-container-id-3 div.sk-label label {font-family: monospace;font-weight: bold;display: inline-block;line-height: 1.2em;}#sk-container-id-3 div.sk-label-container {text-align: center;}#sk-container-id-3 div.sk-container {/* jupyter's `normalize.less` sets `[hidden] { display: none; }` but bootstrap.min.css set `[hidden] { display: none !important; }` so we also need the `!important` here to be able to override the default hidden behavior on the sphinx rendered scikit-learn.org. See: https://github.com/scikit-learn/scikit-learn/issues/21755 */display: inline-block !important;position: relative;}#sk-container-id-3 div.sk-text-repr-fallback {display: none;}</style><div id=\"sk-container-id-3\" class=\"sk-top-container\"><div class=\"sk-text-repr-fallback\"><pre>LogisticRegression()</pre><b>In a Jupyter environment, please rerun this cell to show the HTML representation or trust the notebook. <br />On GitHub, the HTML representation is unable to render, please try loading this page with nbviewer.org.</b></div><div class=\"sk-container\" hidden><div class=\"sk-item\"><div class=\"sk-estimator sk-toggleable\"><input class=\"sk-toggleable__control sk-hidden--visually\" id=\"sk-estimator-id-3\" type=\"checkbox\" checked><label for=\"sk-estimator-id-3\" class=\"sk-toggleable__label sk-toggleable__label-arrow\">LogisticRegression</label><div class=\"sk-toggleable__content\"><pre>LogisticRegression()</pre></div></div></div></div></div>"
      ],
      "text/plain": [
       "LogisticRegression()"
      ]
     },
     "execution_count": 54,
     "metadata": {},
     "output_type": "execute_result"
    }
   ],
   "source": [
    "model = LogisticRegression()\n",
    "model.fit(train_vx,train_y)"
   ]
  },
  {
   "cell_type": "code",
   "execution_count": 55,
   "id": "3885d59a",
   "metadata": {},
   "outputs": [],
   "source": [
    "y_pred = model.predict(test_vx)"
   ]
  },
  {
   "cell_type": "code",
   "execution_count": 58,
   "id": "3b07907f",
   "metadata": {},
   "outputs": [
    {
     "name": "stdout",
     "output_type": "stream",
     "text": [
      "Accuracy Score: 0.82\n",
      "Classification Report:\n",
      "               precision    recall  f1-score   support\n",
      "\n",
      "          -1       1.00      0.31      0.48        16\n",
      "           0       0.68      0.98      0.80        46\n",
      "           1       0.96      0.83      0.89        63\n",
      "\n",
      "    accuracy                           0.82       125\n",
      "   macro avg       0.88      0.71      0.72       125\n",
      "weighted avg       0.86      0.82      0.80       125\n",
      "\n"
     ]
    }
   ],
   "source": [
    "accuracy = accuracy_score(test_y, y_pred)\n",
    "print(f\"Accuracy Score: {accuracy:.2f}\")\n",
    "\n",
    "# Classification report\n",
    "print(\"Classification Report:\\n\", classification_report(test_y, y_pred))"
   ]
  },
  {
   "cell_type": "markdown",
   "id": "c401739a",
   "metadata": {},
   "source": [
    "__The model is quite good as it is able to make correct predictions 82% of the time. However, it is recommended that a better model be used for  much better accuracy and precision.__"
   ]
  },
  {
   "cell_type": "code",
   "execution_count": null,
   "id": "bf44656c",
   "metadata": {},
   "outputs": [],
   "source": []
  }
 ],
 "metadata": {
  "kernelspec": {
   "display_name": "Python 3 (ipykernel)",
   "language": "python",
   "name": "python3"
  },
  "language_info": {
   "codemirror_mode": {
    "name": "ipython",
    "version": 3
   },
   "file_extension": ".py",
   "mimetype": "text/x-python",
   "name": "python",
   "nbconvert_exporter": "python",
   "pygments_lexer": "ipython3",
   "version": "3.10.9"
  }
 },
 "nbformat": 4,
 "nbformat_minor": 5
}
